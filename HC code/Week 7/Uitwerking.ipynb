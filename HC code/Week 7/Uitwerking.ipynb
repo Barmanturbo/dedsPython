{
 "cells": [
  {
   "attachments": {},
   "cell_type": "markdown",
   "metadata": {},
   "source": [
    "Code runnen van donderdagopdracht.py"
   ]
  },
  {
   "cell_type": "code",
   "execution_count": 1,
   "metadata": {},
   "outputs": [
    {
     "name": "stderr",
     "output_type": "stream",
     "text": [
      "C:\\Users\\Burto\\AppData\\Local\\Temp\\ipykernel_5164\\509960423.py:14: UserWarning: pandas only supports SQLAlchemy connectable (engine/connection) or database string URI or sqlite3 DBAPI2 connection. Other DBAPI2 objects are not tested. Please consider using SQLAlchemy.\n",
      "  df_details = pd.read_sql_query(\"SELECT * FROM order_details\", conn)\n",
      "C:\\Users\\Burto\\AppData\\Local\\Temp\\ipykernel_5164\\509960423.py:15: UserWarning: pandas only supports SQLAlchemy connectable (engine/connection) or database string URI or sqlite3 DBAPI2 connection. Other DBAPI2 objects are not tested. Please consider using SQLAlchemy.\n",
      "  df_header = pd.read_sql_query(\"SELECT * FROM order_header\", conn)\n",
      "C:\\Users\\Burto\\AppData\\Local\\Temp\\ipykernel_5164\\509960423.py:16: UserWarning: pandas only supports SQLAlchemy connectable (engine/connection) or database string URI or sqlite3 DBAPI2 connection. Other DBAPI2 objects are not tested. Please consider using SQLAlchemy.\n",
      "  df_product = pd.read_sql_query(\"SELECT * FROM product\", conn)\n",
      "C:\\Users\\Burto\\AppData\\Local\\Temp\\ipykernel_5164\\509960423.py:18: UserWarning: pandas only supports SQLAlchemy connectable (engine/connection) or database string URI or sqlite3 DBAPI2 connection. Other DBAPI2 objects are not tested. Please consider using SQLAlchemy.\n",
      "  df_METHOD = pd.read_sql_query(\"SELECT ORDER_METHOD_CODE FROM order_header\", conn)\n",
      "C:\\Users\\Burto\\AppData\\Local\\Temp\\ipykernel_5164\\509960423.py:19: UserWarning: pandas only supports SQLAlchemy connectable (engine/connection) or database string URI or sqlite3 DBAPI2 connection. Other DBAPI2 objects are not tested. Please consider using SQLAlchemy.\n",
      "  df_TIJD = pd.read_sql_query(\"SELECT ORDER_DATE FROM order_header\", conn)\n"
     ]
    }
   ],
   "source": [
    "import pandas as pd\n",
    "import pyodbc\n",
    "from ydata_profiling import ProfileReport\n",
    "\n",
    "# Maak verbinding met de Microsoft Access-database\n",
    "conn_str = (\n",
    "    r\"Driver={Microsoft Access Driver (*.mdb, *.accdb)};\"\n",
    "    r\"DBQ=C:\\\\Users\\\\Burto\\\\Downloads\\\\GO-databases DEDS-week 4 & 5\\databases\\\\go_sales.accdb;\"\n",
    "    r\"ExtendedAnsiSQL=1;\"\n",
    ")\n",
    "conn = pyodbc.connect(conn_str)\n",
    "\n",
    "# Haal de gegevens op uit de order_details en order_header tabellen\n",
    "df_details = pd.read_sql_query(\"SELECT * FROM order_details\", conn)\n",
    "df_header = pd.read_sql_query(\"SELECT * FROM order_header\", conn)\n",
    "df_product = pd.read_sql_query(\"SELECT * FROM product\", conn)\n",
    "\n",
    "df_METHOD = pd.read_sql_query(\"SELECT ORDER_METHOD_CODE FROM order_header\", conn)\n",
    "df_TIJD = pd.read_sql_query(\"SELECT ORDER_DATE FROM order_header\", conn)\n"
   ]
  },
  {
   "attachments": {},
   "cell_type": "markdown",
   "metadata": {},
   "source": [
    "Vervolgens laat ik een rapport maken van de data (dfBesteldProduct)"
   ]
  },
  {
   "cell_type": "code",
   "execution_count": 2,
   "metadata": {},
   "outputs": [
    {
     "data": {
      "application/vnd.jupyter.widget-view+json": {
       "model_id": "eb8719555b854070802f1eb0e936421f",
       "version_major": 2,
       "version_minor": 0
      },
      "text/plain": [
       "Summarize dataset:   0%|          | 0/5 [00:00<?, ?it/s]"
      ]
     },
     "metadata": {},
     "output_type": "display_data"
    },
    {
     "name": "stderr",
     "output_type": "stream",
     "text": [
      "C:\\Users\\Burto\\AppData\\Local\\Packages\\PythonSoftwareFoundation.Python.3.11_qbz5n2kfra8p0\\LocalCache\\local-packages\\Python311\\site-packages\\scipy\\stats\\_stats_py.py:112: RuntimeWarning: The input array could not be properly checked for nan values. nan values will be ignored.\n",
      "  warnings.warn(\"The input array could not be properly \"\n"
     ]
    },
    {
     "data": {
      "application/vnd.jupyter.widget-view+json": {
       "model_id": "3bc7defaf433402894fa13bd87c68ab2",
       "version_major": 2,
       "version_minor": 0
      },
      "text/plain": [
       "Generate report structure:   0%|          | 0/1 [00:00<?, ?it/s]"
      ]
     },
     "metadata": {},
     "output_type": "display_data"
    },
    {
     "data": {
      "application/vnd.jupyter.widget-view+json": {
       "model_id": "16bd8e42a3fc444d96b79d3ed8a132e3",
       "version_major": 2,
       "version_minor": 0
      },
      "text/plain": [
       "Render widgets:   0%|          | 0/1 [00:00<?, ?it/s]"
      ]
     },
     "metadata": {},
     "output_type": "display_data"
    },
    {
     "data": {
      "application/vnd.jupyter.widget-view+json": {
       "model_id": "c5a49aa7c645486ea9b0557dd0ec5d92",
       "version_major": 2,
       "version_minor": 0
      },
      "text/plain": [
       "VBox(children=(Tab(children=(Tab(children=(GridBox(children=(VBox(children=(GridspecLayout(children=(HTML(valu…"
      ]
     },
     "metadata": {},
     "output_type": "display_data"
    }
   ],
   "source": [
    "#profile = ProfileReport(dfBesteldProduct, title = 'Kwaliteitsrapportage dfBesteldProduct')\n",
    "#profile.to_widgets()\n",
    "profile2 = ProfileReport(df_product, title = 'Kwaliteitsrapportage dfPRODUCT')\n",
    "profile2.to_widgets()"
   ]
  },
  {
   "attachments": {},
   "cell_type": "markdown",
   "metadata": {},
   "source": [
    "Missende variabelen vinden"
   ]
  },
  {
   "cell_type": "code",
   "execution_count": 3,
   "metadata": {},
   "outputs": [
    {
     "data": {
      "text/html": [
       "<div>\n",
       "<style scoped>\n",
       "    .dataframe tbody tr th:only-of-type {\n",
       "        vertical-align: middle;\n",
       "    }\n",
       "\n",
       "    .dataframe tbody tr th {\n",
       "        vertical-align: top;\n",
       "    }\n",
       "\n",
       "    .dataframe thead th {\n",
       "        text-align: right;\n",
       "    }\n",
       "</style>\n",
       "<table border=\"1\" class=\"dataframe\">\n",
       "  <thead>\n",
       "    <tr style=\"text-align: right;\">\n",
       "      <th></th>\n",
       "      <th>PRODUCT_NUMBER</th>\n",
       "      <th>INTRODUCTION_DATE</th>\n",
       "      <th>PRODUCT_TYPE_CODE</th>\n",
       "      <th>PRODUCTION_COST</th>\n",
       "      <th>MARGIN</th>\n",
       "      <th>PRODUCT_IMAGE</th>\n",
       "      <th>LANGUAGE</th>\n",
       "      <th>PRODUCT_NAME</th>\n",
       "      <th>DESCRIPTION</th>\n",
       "    </tr>\n",
       "  </thead>\n",
       "  <tbody>\n",
       "    <tr>\n",
       "      <th>8</th>\n",
       "      <td>61</td>\n",
       "      <td>10-1-2021</td>\n",
       "      <td>None</td>\n",
       "      <td>20</td>\n",
       "      <td>.5</td>\n",
       "      <td>P61ME2TL9.jpg</td>\n",
       "      <td>EN</td>\n",
       "      <td>Granite Axe</td>\n",
       "      <td>Camping axe with clear coated wood handle.</td>\n",
       "    </tr>\n",
       "    <tr>\n",
       "      <th>16</th>\n",
       "      <td>69</td>\n",
       "      <td>15-2-2011</td>\n",
       "      <td>None</td>\n",
       "      <td>73.33</td>\n",
       "      <td>.33</td>\n",
       "      <td>P69PA3EW11.jpg</td>\n",
       "      <td>EN</td>\n",
       "      <td>Polar Ice</td>\n",
       "      <td>Polar Ice sunglasses have polarized lenses to ...</td>\n",
       "    </tr>\n",
       "    <tr>\n",
       "      <th>36</th>\n",
       "      <td>114</td>\n",
       "      <td>15-12-2019</td>\n",
       "      <td>None</td>\n",
       "      <td>80</td>\n",
       "      <td>.6</td>\n",
       "      <td>Course Pro Golf Bag</td>\n",
       "      <td>EN</td>\n",
       "      <td>P114GE5GA21.jpg</td>\n",
       "      <td>High quality golf bag that includes carrying s...</td>\n",
       "    </tr>\n",
       "    <tr>\n",
       "      <th>65</th>\n",
       "      <td>28</td>\n",
       "      <td>15-2-2011</td>\n",
       "      <td>None</td>\n",
       "      <td>24</td>\n",
       "      <td>.2</td>\n",
       "      <td>P28CE1PK4.jpg</td>\n",
       "      <td>None</td>\n",
       "      <td>Canyon Mule Cooler</td>\n",
       "      <td>A durable plastic cooler with hinged top, perf...</td>\n",
       "    </tr>\n",
       "    <tr>\n",
       "      <th>88</th>\n",
       "      <td>51</td>\n",
       "      <td>10-1-2021</td>\n",
       "      <td>None</td>\n",
       "      <td>35</td>\n",
       "      <td>.5</td>\n",
       "      <td>EN</td>\n",
       "      <td>P51ME2CA8.jpg</td>\n",
       "      <td>Granite Belay</td>\n",
       "      <td>The Granite Belay is an ingenious single rope ...</td>\n",
       "    </tr>\n",
       "    <tr>\n",
       "      <th>104</th>\n",
       "      <td>102</td>\n",
       "      <td>10-12-2019</td>\n",
       "      <td>None</td>\n",
       "      <td>380.95</td>\n",
       "      <td>.51</td>\n",
       "      <td>P102GE5IR18.jpg</td>\n",
       "      <td>None</td>\n",
       "      <td>Hailstorm Titanium Irons</td>\n",
       "      <td>Made entirely of pure titanium. The ultimate i...</td>\n",
       "    </tr>\n",
       "  </tbody>\n",
       "</table>\n",
       "</div>"
      ],
      "text/plain": [
       "    PRODUCT_NUMBER INTRODUCTION_DATE PRODUCT_TYPE_CODE PRODUCTION_COST MARGIN  \\\n",
       "8               61         10-1-2021              None              20     .5   \n",
       "16              69         15-2-2011              None           73.33    .33   \n",
       "36             114        15-12-2019              None              80     .6   \n",
       "65              28         15-2-2011              None              24     .2   \n",
       "88              51         10-1-2021              None              35     .5   \n",
       "104            102        10-12-2019              None          380.95    .51   \n",
       "\n",
       "           PRODUCT_IMAGE       LANGUAGE              PRODUCT_NAME  \\\n",
       "8          P61ME2TL9.jpg             EN               Granite Axe   \n",
       "16        P69PA3EW11.jpg             EN                 Polar Ice   \n",
       "36   Course Pro Golf Bag             EN           P114GE5GA21.jpg   \n",
       "65         P28CE1PK4.jpg           None        Canyon Mule Cooler   \n",
       "88                    EN  P51ME2CA8.jpg             Granite Belay   \n",
       "104      P102GE5IR18.jpg           None  Hailstorm Titanium Irons   \n",
       "\n",
       "                                           DESCRIPTION  \n",
       "8           Camping axe with clear coated wood handle.  \n",
       "16   Polar Ice sunglasses have polarized lenses to ...  \n",
       "36   High quality golf bag that includes carrying s...  \n",
       "65   A durable plastic cooler with hinged top, perf...  \n",
       "88   The Granite Belay is an ingenious single rope ...  \n",
       "104  Made entirely of pure titanium. The ultimate i...  "
      ]
     },
     "execution_count": 3,
     "metadata": {},
     "output_type": "execute_result"
    }
   ],
   "source": [
    "df_product.loc[df_product['PRODUCT_TYPE_CODE'].isna(),:]"
   ]
  },
  {
   "attachments": {},
   "cell_type": "markdown",
   "metadata": {},
   "source": [
    "Bekijk alles wat 'Granite' heet"
   ]
  },
  {
   "cell_type": "code",
   "execution_count": 4,
   "metadata": {},
   "outputs": [
    {
     "data": {
      "text/html": [
       "<div>\n",
       "<style scoped>\n",
       "    .dataframe tbody tr th:only-of-type {\n",
       "        vertical-align: middle;\n",
       "    }\n",
       "\n",
       "    .dataframe tbody tr th {\n",
       "        vertical-align: top;\n",
       "    }\n",
       "\n",
       "    .dataframe thead th {\n",
       "        text-align: right;\n",
       "    }\n",
       "</style>\n",
       "<table border=\"1\" class=\"dataframe\">\n",
       "  <thead>\n",
       "    <tr style=\"text-align: right;\">\n",
       "      <th></th>\n",
       "      <th>PRODUCT_NUMBER</th>\n",
       "      <th>INTRODUCTION_DATE</th>\n",
       "      <th>PRODUCT_TYPE_CODE</th>\n",
       "      <th>PRODUCTION_COST</th>\n",
       "      <th>MARGIN</th>\n",
       "      <th>PRODUCT_IMAGE</th>\n",
       "      <th>LANGUAGE</th>\n",
       "      <th>PRODUCT_NAME</th>\n",
       "      <th>DESCRIPTION</th>\n",
       "    </tr>\n",
       "  </thead>\n",
       "  <tbody>\n",
       "    <tr>\n",
       "      <th>3</th>\n",
       "      <td>56</td>\n",
       "      <td>10-1-2021</td>\n",
       "      <td>8</td>\n",
       "      <td>9</td>\n",
       "      <td>.5</td>\n",
       "      <td>P56ME2CA8.jpg</td>\n",
       "      <td>None</td>\n",
       "      <td>Granite Chalk Bag</td>\n",
       "      <td>Nylon web bag perfect for holding several stic...</td>\n",
       "    </tr>\n",
       "    <tr>\n",
       "      <th>4</th>\n",
       "      <td>57</td>\n",
       "      <td>10-1-2021</td>\n",
       "      <td>9</td>\n",
       "      <td>40</td>\n",
       "      <td>.5</td>\n",
       "      <td>P57ME2TL9.jpg</td>\n",
       "      <td>EN</td>\n",
       "      <td>Granite Ice</td>\n",
       "      <td>A general purpose mountaineering axe for snow ...</td>\n",
       "    </tr>\n",
       "    <tr>\n",
       "      <th>5</th>\n",
       "      <td>58</td>\n",
       "      <td>10-1-2021</td>\n",
       "      <td>9</td>\n",
       "      <td>57.13</td>\n",
       "      <td>.28</td>\n",
       "      <td>P58ME2TL9.jpg</td>\n",
       "      <td>EN</td>\n",
       "      <td>Granite Hammer</td>\n",
       "      <td>A solid hammer made with a solid hard wood han...</td>\n",
       "    </tr>\n",
       "    <tr>\n",
       "      <th>6</th>\n",
       "      <td>59</td>\n",
       "      <td>10-1-2021</td>\n",
       "      <td>9</td>\n",
       "      <td>46.15</td>\n",
       "      <td>.23</td>\n",
       "      <td>EN</td>\n",
       "      <td>P59ME2TL9.jpg</td>\n",
       "      <td>Granite Shovel</td>\n",
       "      <td>Shovel has removable aluminum handle and heat ...</td>\n",
       "    </tr>\n",
       "    <tr>\n",
       "      <th>7</th>\n",
       "      <td>60</td>\n",
       "      <td>10-1-2021</td>\n",
       "      <td>9</td>\n",
       "      <td>10</td>\n",
       "      <td>.5</td>\n",
       "      <td>P60ME2TL9.jpg</td>\n",
       "      <td>EN</td>\n",
       "      <td>Granite Grip</td>\n",
       "      <td>All-purpose stainless steel pliers. Sheath inc...</td>\n",
       "    </tr>\n",
       "    <tr>\n",
       "      <th>9</th>\n",
       "      <td>62</td>\n",
       "      <td>10-1-2021</td>\n",
       "      <td>9</td>\n",
       "      <td>47.06</td>\n",
       "      <td>.4</td>\n",
       "      <td>P62ME2TL9.jpg</td>\n",
       "      <td>EN</td>\n",
       "      <td>Granite Extreme</td>\n",
       "      <td>The Edge Extreme is a collapsible plier-shaped...</td>\n",
       "    </tr>\n",
       "    <tr>\n",
       "      <th>83</th>\n",
       "      <td>46</td>\n",
       "      <td>10-1-2021</td>\n",
       "      <td>7</td>\n",
       "      <td>52.86</td>\n",
       "      <td>.28</td>\n",
       "      <td>P46ME2SY7.jpg</td>\n",
       "      <td>EN</td>\n",
       "      <td>Granite Climbing Helmet</td>\n",
       "      <td>This UIAA approved helmet fits adults and kids...</td>\n",
       "    </tr>\n",
       "    <tr>\n",
       "      <th>86</th>\n",
       "      <td>49</td>\n",
       "      <td>Day or night signal mirror with gridded sighti...</td>\n",
       "      <td>7</td>\n",
       "      <td>16.5</td>\n",
       "      <td>.5</td>\n",
       "      <td>P49ME2SY7.jpg</td>\n",
       "      <td>EN</td>\n",
       "      <td>Granite Signal Mirror</td>\n",
       "      <td>10-1-2021</td>\n",
       "    </tr>\n",
       "    <tr>\n",
       "      <th>87</th>\n",
       "      <td>50</td>\n",
       "      <td>10-1-2021</td>\n",
       "      <td>8</td>\n",
       "      <td>2</td>\n",
       "      <td>.5</td>\n",
       "      <td>P50ME2CA8.jpg</td>\n",
       "      <td>EN</td>\n",
       "      <td>Granite Carabiner</td>\n",
       "      <td>Made from 12 mm rod stock aluminum and a radiu...</td>\n",
       "    </tr>\n",
       "    <tr>\n",
       "      <th>89</th>\n",
       "      <td>52</td>\n",
       "      <td>10-1-2021</td>\n",
       "      <td>8</td>\n",
       "      <td>19</td>\n",
       "      <td>.5</td>\n",
       "      <td>P52ME2CA8.jpg</td>\n",
       "      <td>EN</td>\n",
       "      <td>Granite Pulley</td>\n",
       "      <td>None</td>\n",
       "    </tr>\n",
       "  </tbody>\n",
       "</table>\n",
       "</div>"
      ],
      "text/plain": [
       "   PRODUCT_NUMBER                                  INTRODUCTION_DATE  \\\n",
       "3              56                                          10-1-2021   \n",
       "4              57                                          10-1-2021   \n",
       "5              58                                          10-1-2021   \n",
       "6              59                                          10-1-2021   \n",
       "7              60                                          10-1-2021   \n",
       "9              62                                          10-1-2021   \n",
       "83             46                                          10-1-2021   \n",
       "86             49  Day or night signal mirror with gridded sighti...   \n",
       "87             50                                          10-1-2021   \n",
       "89             52                                          10-1-2021   \n",
       "\n",
       "   PRODUCT_TYPE_CODE PRODUCTION_COST MARGIN  PRODUCT_IMAGE       LANGUAGE  \\\n",
       "3                  8               9     .5  P56ME2CA8.jpg           None   \n",
       "4                  9              40     .5  P57ME2TL9.jpg             EN   \n",
       "5                  9           57.13    .28  P58ME2TL9.jpg             EN   \n",
       "6                  9           46.15    .23             EN  P59ME2TL9.jpg   \n",
       "7                  9              10     .5  P60ME2TL9.jpg             EN   \n",
       "9                  9           47.06     .4  P62ME2TL9.jpg             EN   \n",
       "83                 7           52.86    .28  P46ME2SY7.jpg             EN   \n",
       "86                 7            16.5     .5  P49ME2SY7.jpg             EN   \n",
       "87                 8               2     .5  P50ME2CA8.jpg             EN   \n",
       "89                 8              19     .5  P52ME2CA8.jpg             EN   \n",
       "\n",
       "               PRODUCT_NAME                                        DESCRIPTION  \n",
       "3         Granite Chalk Bag  Nylon web bag perfect for holding several stic...  \n",
       "4               Granite Ice  A general purpose mountaineering axe for snow ...  \n",
       "5            Granite Hammer  A solid hammer made with a solid hard wood han...  \n",
       "6            Granite Shovel  Shovel has removable aluminum handle and heat ...  \n",
       "7              Granite Grip  All-purpose stainless steel pliers. Sheath inc...  \n",
       "9           Granite Extreme  The Edge Extreme is a collapsible plier-shaped...  \n",
       "83  Granite Climbing Helmet  This UIAA approved helmet fits adults and kids...  \n",
       "86    Granite Signal Mirror                                          10-1-2021  \n",
       "87        Granite Carabiner  Made from 12 mm rod stock aluminum and a radiu...  \n",
       "89           Granite Pulley                                               None  "
      ]
     },
     "execution_count": 4,
     "metadata": {},
     "output_type": "execute_result"
    }
   ],
   "source": [
    "subset_product_nullProductType_name_like_granite = df_product.loc[(~df_product['PRODUCT_TYPE_CODE'].isna())&(df_product['PRODUCT_NAME'].str.contains('Granite')),:]\n",
    "subset_product_nullProductType_name_like_granite"
   ]
  },
  {
   "attachments": {},
   "cell_type": "markdown",
   "metadata": {},
   "source": [
    "De meeste waarden hier bij Product_Type_code is 9; vul dus alles maar in met 9.\n",
    "\n",
    "<br/><br/>\n",
    "Dubbel check hoeveelheid null waarden"
   ]
  },
  {
   "cell_type": "code",
   "execution_count": 5,
   "metadata": {},
   "outputs": [
    {
     "data": {
      "text/plain": [
       "6"
      ]
     },
     "execution_count": 5,
     "metadata": {},
     "output_type": "execute_result"
    }
   ],
   "source": [
    "\n",
    "df_product['PRODUCT_TYPE_CODE'].isna().sum()"
   ]
  },
  {
   "cell_type": "code",
   "execution_count": 6,
   "metadata": {},
   "outputs": [],
   "source": [
    "# Selecteer rijen waarvoor PRODUCT_TYPE_CODE leeg is en PRODUCT_NAME 'Granite' bevat\n",
    "mask = (df_product['PRODUCT_TYPE_CODE'].isnull()) & (df_product['PRODUCT_NAME'].str.contains('Granite'))\n",
    "\n",
    "# Werk de PRODUCT_TYPE_CODE-kolom bij naar 9 voor de geselecteerde rijen\n",
    "df_product.loc[mask, 'PRODUCT_TYPE_CODE'] = 9\n"
   ]
  },
  {
   "attachments": {},
   "cell_type": "markdown",
   "metadata": {},
   "source": [
    "Kijk wat er nu nog mis is."
   ]
  },
  {
   "cell_type": "code",
   "execution_count": 7,
   "metadata": {},
   "outputs": [
    {
     "data": {
      "text/plain": [
       "4"
      ]
     },
     "execution_count": 7,
     "metadata": {},
     "output_type": "execute_result"
    }
   ],
   "source": [
    "df_product['PRODUCT_TYPE_CODE'].isna().sum()"
   ]
  },
  {
   "attachments": {},
   "cell_type": "markdown",
   "metadata": {},
   "source": [
    "Check opnieuw wat er over is"
   ]
  },
  {
   "cell_type": "code",
   "execution_count": 8,
   "metadata": {},
   "outputs": [
    {
     "data": {
      "text/html": [
       "<div>\n",
       "<style scoped>\n",
       "    .dataframe tbody tr th:only-of-type {\n",
       "        vertical-align: middle;\n",
       "    }\n",
       "\n",
       "    .dataframe tbody tr th {\n",
       "        vertical-align: top;\n",
       "    }\n",
       "\n",
       "    .dataframe thead th {\n",
       "        text-align: right;\n",
       "    }\n",
       "</style>\n",
       "<table border=\"1\" class=\"dataframe\">\n",
       "  <thead>\n",
       "    <tr style=\"text-align: right;\">\n",
       "      <th></th>\n",
       "      <th>PRODUCT_NUMBER</th>\n",
       "      <th>INTRODUCTION_DATE</th>\n",
       "      <th>PRODUCT_TYPE_CODE</th>\n",
       "      <th>PRODUCTION_COST</th>\n",
       "      <th>MARGIN</th>\n",
       "      <th>PRODUCT_IMAGE</th>\n",
       "      <th>LANGUAGE</th>\n",
       "      <th>PRODUCT_NAME</th>\n",
       "      <th>DESCRIPTION</th>\n",
       "    </tr>\n",
       "  </thead>\n",
       "  <tbody>\n",
       "    <tr>\n",
       "      <th>16</th>\n",
       "      <td>69</td>\n",
       "      <td>15-2-2011</td>\n",
       "      <td>None</td>\n",
       "      <td>73.33</td>\n",
       "      <td>.33</td>\n",
       "      <td>P69PA3EW11.jpg</td>\n",
       "      <td>EN</td>\n",
       "      <td>Polar Ice</td>\n",
       "      <td>Polar Ice sunglasses have polarized lenses to ...</td>\n",
       "    </tr>\n",
       "    <tr>\n",
       "      <th>36</th>\n",
       "      <td>114</td>\n",
       "      <td>15-12-2019</td>\n",
       "      <td>None</td>\n",
       "      <td>80</td>\n",
       "      <td>.6</td>\n",
       "      <td>Course Pro Golf Bag</td>\n",
       "      <td>EN</td>\n",
       "      <td>P114GE5GA21.jpg</td>\n",
       "      <td>High quality golf bag that includes carrying s...</td>\n",
       "    </tr>\n",
       "    <tr>\n",
       "      <th>65</th>\n",
       "      <td>28</td>\n",
       "      <td>15-2-2011</td>\n",
       "      <td>None</td>\n",
       "      <td>24</td>\n",
       "      <td>.2</td>\n",
       "      <td>P28CE1PK4.jpg</td>\n",
       "      <td>None</td>\n",
       "      <td>Canyon Mule Cooler</td>\n",
       "      <td>A durable plastic cooler with hinged top, perf...</td>\n",
       "    </tr>\n",
       "    <tr>\n",
       "      <th>104</th>\n",
       "      <td>102</td>\n",
       "      <td>10-12-2019</td>\n",
       "      <td>None</td>\n",
       "      <td>380.95</td>\n",
       "      <td>.51</td>\n",
       "      <td>P102GE5IR18.jpg</td>\n",
       "      <td>None</td>\n",
       "      <td>Hailstorm Titanium Irons</td>\n",
       "      <td>Made entirely of pure titanium. The ultimate i...</td>\n",
       "    </tr>\n",
       "  </tbody>\n",
       "</table>\n",
       "</div>"
      ],
      "text/plain": [
       "    PRODUCT_NUMBER INTRODUCTION_DATE PRODUCT_TYPE_CODE PRODUCTION_COST MARGIN  \\\n",
       "16              69         15-2-2011              None           73.33    .33   \n",
       "36             114        15-12-2019              None              80     .6   \n",
       "65              28         15-2-2011              None              24     .2   \n",
       "104            102        10-12-2019              None          380.95    .51   \n",
       "\n",
       "           PRODUCT_IMAGE LANGUAGE              PRODUCT_NAME  \\\n",
       "16        P69PA3EW11.jpg       EN                 Polar Ice   \n",
       "36   Course Pro Golf Bag       EN           P114GE5GA21.jpg   \n",
       "65         P28CE1PK4.jpg     None        Canyon Mule Cooler   \n",
       "104      P102GE5IR18.jpg     None  Hailstorm Titanium Irons   \n",
       "\n",
       "                                           DESCRIPTION  \n",
       "16   Polar Ice sunglasses have polarized lenses to ...  \n",
       "36   High quality golf bag that includes carrying s...  \n",
       "65   A durable plastic cooler with hinged top, perf...  \n",
       "104  Made entirely of pure titanium. The ultimate i...  "
      ]
     },
     "execution_count": 8,
     "metadata": {},
     "output_type": "execute_result"
    }
   ],
   "source": [
    "df_product.loc[df_product['PRODUCT_TYPE_CODE'].isna(),:]"
   ]
  },
  {
   "attachments": {},
   "cell_type": "markdown",
   "metadata": {},
   "source": [
    "Volgens het datarapport is 90% van de language in product 'EN'; en de rest is foutieve data. Laten we alles wat leeg is veranderen in 'EN'. Hier waren we eigenlijk nog niet mee bezig, maar dit is een probleem die ik tussendoor gevonden heb en makkelijk op te lossen vond."
   ]
  },
  {
   "cell_type": "code",
   "execution_count": 9,
   "metadata": {},
   "outputs": [],
   "source": [
    "df_product['language'] = df_product['LANGUAGE'].fillna('EN')"
   ]
  },
  {
   "attachments": {},
   "cell_type": "markdown",
   "metadata": {},
   "source": [
    "Laten we nu tussendoor voor het uitzoeken van de productcodes de volgende waarden verwisselen:<br/>\n",
    "LANGUAGE en PRODUCT_IMAGE van PRODUCT_NUMBER = 51;<br/>\n",
    "PRODUCT_IMAGE en PRODUCT_NAME van PRODUCT_NUMBER = 114;\n"
   ]
  },
  {
   "cell_type": "code",
   "execution_count": 10,
   "metadata": {},
   "outputs": [
    {
     "name": "stdout",
     "output_type": "stream",
     "text": [
      "Geen rij gevonden met PRODUCT_NUMBER = 51\n",
      "Geen rij gevonden met PRODUCT_NUMBER 114\n"
     ]
    }
   ],
   "source": [
    "# Selecteer de rij met PRODUCT_NUMBER = 51 en sla de index op in een variabele\n",
    "idx = df_product[df_product['PRODUCT_NUMBER'] == 51].index\n",
    "\n",
    "# Controleer of de index niet leeg is\n",
    "if len(idx) > 0:\n",
    "    # Sla de waarden op in tijdelijke variabelen\n",
    "    temp_language = df_product.loc[idx[0], 'LANGUAGE']\n",
    "    temp_image = df_product.loc[idx[0], 'PRODUCT_IMAGE']\n",
    "\n",
    "    # Verwissel de waarden\n",
    "    df_product.loc[idx[0], 'LANGUAGE'] = temp_image\n",
    "    df_product.loc[idx[0], 'PRODUCT_IMAGE'] = temp_language\n",
    "else:\n",
    "    print(\"Geen rij gevonden met PRODUCT_NUMBER = 51\")\n",
    "\n",
    "#Herhaal voor 114\n",
    "idx = df_product[df_product['PRODUCT_NUMBER']==114].index\n",
    "if len(idx) > 0:\n",
    "    temp_image = df_product.loc[idx[0],'PRODUCT_IMAGE']\n",
    "    temp_naam = df_product.loc[idx[0],'PRODUCT_NAME']\n",
    "    df_product.loc[idx[0],'PRODUCT_IMAGE'] = temp_naam\n",
    "    df_product.loc[idx[0],'PRODUCT_NAME'] = temp_image\n",
    "else:\n",
    "    print(\"Geen rij gevonden met PRODUCT_NUMBER 114\")\n"
   ]
  },
  {
   "attachments": {},
   "cell_type": "markdown",
   "metadata": {},
   "source": [
    "Check datatype per kolom"
   ]
  },
  {
   "cell_type": "code",
   "execution_count": 11,
   "metadata": {},
   "outputs": [
    {
     "data": {
      "text/plain": [
       "PRODUCT_NUMBER       object\n",
       "INTRODUCTION_DATE    object\n",
       "PRODUCT_TYPE_CODE    object\n",
       "PRODUCTION_COST      object\n",
       "MARGIN               object\n",
       "PRODUCT_IMAGE        object\n",
       "LANGUAGE             object\n",
       "PRODUCT_NAME         object\n",
       "DESCRIPTION          object\n",
       "language             object\n",
       "dtype: object"
      ]
     },
     "execution_count": 11,
     "metadata": {},
     "output_type": "execute_result"
    }
   ],
   "source": [
    "df_product.dtypes"
   ]
  },
  {
   "attachments": {},
   "cell_type": "markdown",
   "metadata": {},
   "source": [
    "Vind de hoogste waarde product_number.\n",
    "\n",
    "In de Access Database wordt aangegeven dat de hoogste waarde van PRODUCT_TYPE_CODE 21 is."
   ]
  },
  {
   "cell_type": "code",
   "execution_count": 12,
   "metadata": {},
   "outputs": [
    {
     "name": "stdout",
     "output_type": "stream",
     "text": [
      "99\n"
     ]
    }
   ],
   "source": [
    "highest_product_number = df_product['PRODUCT_NUMBER'].max()\n",
    "print(highest_product_number)\n"
   ]
  },
  {
   "attachments": {},
   "cell_type": "markdown",
   "metadata": {},
   "source": [
    "Bekijk de code en verwissel data zo nodig. Vul lege waarden met \"onbekend\""
   ]
  },
  {
   "cell_type": "code",
   "execution_count": 13,
   "metadata": {},
   "outputs": [],
   "source": [
    "import re\n",
    "\n",
    "# Zet kolommen om naar het juiste datatype\n",
    "df_product['PRODUCT_NUMBER'] = pd.to_numeric(df_product['PRODUCT_NUMBER'], errors='coerce')\n",
    "df_product['INTRODUCTION_DATE'] = pd.to_datetime(df_product['INTRODUCTION_DATE'], format='%d-%m-%Y', errors='coerce')\n",
    "df_product['PRODUCT_TYPE_CODE'] = pd.to_numeric(df_product['PRODUCT_TYPE_CODE'], downcast='integer', errors='coerce')\n",
    "df_product['PRODUCTION_COST'] = pd.to_numeric(df_product['PRODUCTION_COST'], downcast='float', errors='coerce')\n",
    "df_product['MARGIN'] = pd.to_numeric(df_product['MARGIN'].str.replace(',', '.'), errors='coerce')\n",
    "df_product['PRODUCT_IMAGE'] = df_product['PRODUCT_IMAGE'].astype(str)\n",
    "df_product['LANGUAGE'] = df_product['LANGUAGE'].astype(str)\n",
    "df_product['PRODUCT_NAME'] = df_product['PRODUCT_NAME'].astype(str)\n",
    "df_product['DESCRIPTION'] = df_product['DESCRIPTION'].astype(str)\n",
    "\n",
    "# Validatie van PRODUCT_NUMBER\n",
    "for idx, value in df_product['PRODUCT_NUMBER'].items():\n",
    "    if pd.isna(value):\n",
    "        df_product.at[idx, 'PRODUCT_NUMBER'] = 'onbekend'\n",
    "    elif not isinstance(value, int):\n",
    "        df_product.at[idx, 'PRODUCT_NUMBER'] = df_product.at[idx, 'PRODUCTION_COST']\n",
    "        df_product.at[idx, 'PRODUCTION_COST'] = df_product.at[idx, 'MARGIN']\n",
    "        df_product.at[idx, 'MARGIN'] = df_product.at[idx, 'PRODUCT_TYPE_CODE']\n",
    "        df_product.at[idx, 'PRODUCT_TYPE_CODE'] = df_product.at[idx, 'INTRODUCTION_DATE']\n",
    "        df_product.at[idx, 'INTRODUCTION_DATE'] = df_product.at[idx, 'PRODUCT_IMAGE']\n",
    "        df_product.at[idx, 'PRODUCT_IMAGE'] = df_product.at[idx, 'LANGUAGE']\n",
    "        df_product.at[idx, 'LANGUAGE'] = df_product.at[idx, 'PRODUCT_NAME']\n",
    "        df_product.at[idx, 'PRODUCT_NAME'] = df_product.at[idx, 'DESCRIPTION']\n",
    "        df_product.at[idx, 'DESCRIPTION'] = 'onbekend'\n",
    "    elif value < 0 or isinstance(value, bool):\n",
    "        df_product.at[idx, 'PRODUCT_NUMBER'] = df_product.at[idx, 'PRODUCTION_COST']\n",
    "        df_product.at[idx, 'PRODUCTION_COST'] = df_product.at[idx, 'MARGIN']\n",
    "        df_product.at[idx, 'MARGIN'] = df_product.at[idx, 'PRODUCT_TYPE_CODE']\n",
    "        df_product.at[idx, 'PRODUCT_TYPE_CODE'] = df_product.at[idx, 'INTRODUCTION_DATE']\n",
    "        df_product.at[idx, 'INTRODUCTION_DATE'] = df_product.at[idx, 'PRODUCT_IMAGE']\n",
    "        df_product.at[idx, 'PRODUCT_IMAGE'] = df_product.at[idx, 'LANGUAGE']\n",
    "        df_product.at[idx, 'LANGUAGE'] = df_product.at[idx, 'PRODUCT_NAME']\n",
    "        df_product.at[idx, 'PRODUCT_NAME'] = df_product.at[idx, 'DESCRIPTION']\n",
    "        df_product.at[idx, 'DESCRIPTION'] = 'onbekend'\n"
   ]
  },
  {
   "attachments": {},
   "cell_type": "markdown",
   "metadata": {},
   "source": [
    "Rapport nummer 2"
   ]
  },
  {
   "cell_type": "code",
   "execution_count": 14,
   "metadata": {},
   "outputs": [
    {
     "data": {
      "application/vnd.jupyter.widget-view+json": {
       "model_id": "7d18c88210ee44068aacd15d09107258",
       "version_major": 2,
       "version_minor": 0
      },
      "text/plain": [
       "Summarize dataset:   0%|          | 0/5 [00:00<?, ?it/s]"
      ]
     },
     "metadata": {},
     "output_type": "display_data"
    },
    {
     "data": {
      "application/vnd.jupyter.widget-view+json": {
       "model_id": "b83803132b1a491ab92e852c93e18b49",
       "version_major": 2,
       "version_minor": 0
      },
      "text/plain": [
       "Generate report structure:   0%|          | 0/1 [00:00<?, ?it/s]"
      ]
     },
     "metadata": {},
     "output_type": "display_data"
    },
    {
     "data": {
      "application/vnd.jupyter.widget-view+json": {
       "model_id": "4dd458ad10084233bf93846291548a0f",
       "version_major": 2,
       "version_minor": 0
      },
      "text/plain": [
       "Render widgets:   0%|          | 0/1 [00:00<?, ?it/s]"
      ]
     },
     "metadata": {},
     "output_type": "display_data"
    },
    {
     "data": {
      "application/vnd.jupyter.widget-view+json": {
       "model_id": "698a1343b9764b56a04a9c0aba6923a4",
       "version_major": 2,
       "version_minor": 0
      },
      "text/plain": [
       "VBox(children=(Tab(children=(Tab(children=(GridBox(children=(VBox(children=(GridspecLayout(children=(HTML(valu…"
      ]
     },
     "metadata": {},
     "output_type": "display_data"
    }
   ],
   "source": [
    "profile3 = ProfileReport(df_product, title = 'Kwaliteitsrapportage dfPRODUCT')\n",
    "profile3.to_widgets()"
   ]
  },
  {
   "attachments": {},
   "cell_type": "markdown",
   "metadata": {},
   "source": [
    "Op sommige plaatsen is PRODUCT_IMAGE en LANUGAGE nog steeds verwisseld, hier is de code om dat te fixen."
   ]
  },
  {
   "cell_type": "code",
   "execution_count": 15,
   "metadata": {},
   "outputs": [],
   "source": [
    "for index, row in df_product.iterrows():\n",
    "    # Verwissel LANGUAGE en PRODUCT_IMAGE indien nodig\n",
    "    if row[\"LANGUAGE\"] != \"EN\" and row[\"PRODUCT_IMAGE\"].endswith(\".jpg\"):\n",
    "        df_product.at[index, \"LANGUAGE\"], df_product.at[index, \"PRODUCT_IMAGE\"] = \\\n",
    "        df_product.at[index, \"PRODUCT_IMAGE\"], df_product.at[index, \"LANGUAGE\"]\n"
   ]
  },
  {
   "attachments": {},
   "cell_type": "markdown",
   "metadata": {},
   "source": [
    "Controleer of tekst in LANGUAGE gelijk is aan 'EN'. zo niet, verwissel waarden met cel dat wel  'EN' is."
   ]
  },
  {
   "cell_type": "code",
   "execution_count": 16,
   "metadata": {},
   "outputs": [],
   "source": [
    "for i, row in df_product.iterrows():\n",
    "    if row['LANGUAGE'] != 'EN':\n",
    "        for col in df_product.columns:\n",
    "            if row[col] == 'EN':\n",
    "                df_product.at[i, 'LANGUAGE'], df_product.at[i, col] = df_product.at[i, col], df_product.at[i, 'LANGUAGE']\n",
    "                break\n"
   ]
  },
  {
   "attachments": {},
   "cell_type": "markdown",
   "metadata": {},
   "source": [
    "Verwijder duplicate kolom"
   ]
  },
  {
   "cell_type": "code",
   "execution_count": 17,
   "metadata": {},
   "outputs": [],
   "source": [
    "df_product = df_product.loc[:, ~df_product.columns.duplicated()]\n",
    "df_product = df_product.drop('language', axis=1)\n",
    "\n"
   ]
  },
  {
   "attachments": {},
   "cell_type": "markdown",
   "metadata": {},
   "source": [
    "Controleer of alles wat eindigt op .jpg ook daadwerkelijk in de kolom PRODUCT_IMAGE staat. Zo nee, verwissel inhoud met PRODUCT_IMAGE op dezelfde rij."
   ]
  },
  {
   "cell_type": "code",
   "execution_count": 18,
   "metadata": {},
   "outputs": [],
   "source": [
    "for i, row in df_product.iterrows():\n",
    "    for col in df_product.columns:\n",
    "        if col != 'PRODUCT_IMAGE' and str(row[col]).endswith('.jpg'):\n",
    "            df_product.at[i, col], df_product.at[i, 'PRODUCT_IMAGE'] = df_product.at[i, 'PRODUCT_IMAGE'], df_product.at[i, col]\n"
   ]
  },
  {
   "attachments": {},
   "cell_type": "markdown",
   "metadata": {},
   "source": [
    "Ik heb vervolgens in het output excel bestand gekeken wat er nog meer opgeschoond moet worden ronddom PRODUCT_IMAGE. Dat kwam neer op het volgende stappenplan:<br/>\n",
    "Verwissel PRODUCT_IMAGE en PRODUCTION_COST waar PRODUCT_NUMBER gelijk is aan 7 (1 value)<br/>\n",
    "Verwissel PRODUCT_IMAGE en MARGIN waar PRODUCT_NUMBER gelijk is aan 111 (1 value)<br/>\n",
    "Verwissel PRODUCT_IMAGE en INTRODUCTION_DATE waar INTRODUCTION_DATE leeg is en PRODUCT_IMAGE niet eindigt op '.jpg' (minstens 5 values)<br/>"
   ]
  },
  {
   "cell_type": "code",
   "execution_count": 19,
   "metadata": {},
   "outputs": [],
   "source": [
    "#Verwissel PRODUCT_IMAGE en PRODUCTION_COST waar PRODUCT_NUMBER gelijk is aan 7\n",
    "mask = (df_product['PRODUCT_NUMBER'] == 7)\n",
    "df_product.loc[mask, ['PRODUCT_IMAGE', 'PRODUCTION_COST']] = df_product.loc[mask, ['PRODUCTION_COST', 'PRODUCT_IMAGE']].values\n",
    "\n",
    "#Verwissel PRODUCT_IMAGE en MARGIN waar PRODUCT_NUMBER gelijk is aan 111\n",
    "mask = (df_product['PRODUCT_NUMBER'] == 111)\n",
    "df_product.loc[mask, ['PRODUCT_IMAGE', 'MARGIN']] = df_product.loc[mask, ['MARGIN', 'PRODUCT_IMAGE']].values\n",
    "\n",
    "#Verwissel PRODUCT_IMAGE en INTRODUCTION_DATE waar INTRODUCTION_DATE leeg is en PRODUCT_IMAGE niet eindigt op '.jpg'\n",
    "df_product['PRODUCT_IMAGE'] = df_product['PRODUCT_IMAGE'].fillna('')\n",
    "mask = (df_product['INTRODUCTION_DATE'].isnull()) & (~df_product['PRODUCT_IMAGE'].str.endswith('.jpg'))\n",
    "df_product.loc[mask, ['PRODUCT_IMAGE', 'INTRODUCTION_DATE']] = df_product.loc[mask, ['INTRODUCTION_DATE', 'PRODUCT_IMAGE']].values\n"
   ]
  },
  {
   "attachments": {},
   "cell_type": "markdown",
   "metadata": {},
   "source": [
    "Poging 2 om product number 7 en 111 te fixen"
   ]
  },
  {
   "cell_type": "code",
   "execution_count": 20,
   "metadata": {},
   "outputs": [],
   "source": [
    "mask = df_product['PRODUCT_NUMBER'] == 7\n",
    "df_product.loc[mask, ['PRODUCT_IMAGE', 'PRODUCTION_COST']] = df_product.loc[mask, ['PRODUCTION_COST', 'PRODUCT_IMAGE']].values\n"
   ]
  },
  {
   "cell_type": "code",
   "execution_count": 21,
   "metadata": {},
   "outputs": [],
   "source": [
    "mask = df_product['PRODUCT_NUMBER'] == 111\n",
    "df_product.loc[mask, ['PRODUCT_IMAGE', 'MARGIN']] = df_product.loc[mask, ['MARGIN', 'PRODUCT_IMAGE']].values\n"
   ]
  },
  {
   "attachments": {},
   "cell_type": "markdown",
   "metadata": {},
   "source": [
    "Verwissel alles wat lijkt op een datum in PRODUCT_NAME met ITNRODUCTION_DATE, maar alleen als INTRODUCTION_DATE leeg is."
   ]
  },
  {
   "cell_type": "code",
   "execution_count": 22,
   "metadata": {},
   "outputs": [],
   "source": [
    "#Verwissel PRODUCT_IMAGE en PRODUCTION_COST waar PRODUCT_NUMBER gelijk is aan 7\n",
    "mask = df_product['PRODUCT_NUMBER'] == 7\n",
    "df_product.loc[mask, ['PRODUCT_IMAGE', 'PRODUCTION_COST']] = df_product.loc[mask, ['PRODUCTION_COST', 'PRODUCT_IMAGE']].values\n",
    "\n",
    "#Verwissel PRODUCT_IMAGE en MARGIN waar PRODUCT_NUMBER gelijk is aan 111\n",
    "mask = df_product['PRODUCT_NUMBER'] == 111\n",
    "df_product.loc[mask, ['PRODUCT_IMAGE', 'MARGIN']] = df_product.loc[mask, ['MARGIN', 'PRODUCT_IMAGE']].values\n",
    "\n",
    "#Verwissel PRODUCT_NAME en INTRODUCTION_DATE waar INTRODUCTION_DATE leeg is en PRODUCT_NAME een datum bevat\n",
    "mask = (df_product['INTRODUCTION_DATE'].isnull()) & (~df_product['PRODUCT_NAME'].isnull())\n",
    "date_pattern = r'\\d{1,2}[-/]\\d{1,2}[-/]\\d{2,4}'\n",
    "df_product.loc[mask, 'PRODUCT_NAME'] = df_product.loc[mask, 'PRODUCT_NAME'].apply(lambda x: re.sub(date_pattern, str(df_product.loc[mask, 'INTRODUCTION_DATE'].values[0]), str(x)))\n"
   ]
  },
  {
   "attachments": {},
   "cell_type": "markdown",
   "metadata": {},
   "source": [
    "Verwissel vervolgens numerieke waarden in PRODUCT_NAME die kleiner zijn dan 1 met MARGIN, en degenen die groter zijn dan 1 met PRODUCTION_COST."
   ]
  },
  {
   "cell_type": "code",
   "execution_count": 23,
   "metadata": {},
   "outputs": [],
   "source": [
    "\n",
    "numeric_pattern = r'\\d+(\\.\\d+)?'\n",
    "df_product['numeric_value'] = df_product['PRODUCT_NAME'].str.extract(numeric_pattern, expand=False).astype(float)\n",
    "\n",
    "mask = (df_product['numeric_value'] < 1)\n",
    "df_product.loc[mask, ['MARGIN', 'PRODUCT_NAME']] = df_product.loc[mask, ['PRODUCT_NAME', 'MARGIN']].values\n",
    "\n",
    "mask = (df_product['numeric_value'] > 1) & (df_product['numeric_value'] <= 999.99)\n",
    "df_product.loc[mask, ['PRODUCTION_COST', 'PRODUCT_NAME']] = df_product.loc[mask, ['PRODUCT_NAME', 'PRODUCTION_COST']].values\n",
    "\n",
    "# Verwijder de tijdelijke kolom 'numeric_value'\n",
    "df_product.drop('numeric_value', axis=1, inplace=True)\n"
   ]
  },
  {
   "attachments": {},
   "cell_type": "markdown",
   "metadata": {},
   "source": [
    "Daar waar PRODUCT_CODE=20 en 48 lijkt nog niet gedaan te zijn. 20 moet naar margin en 48 moet naar production cost."
   ]
  },
  {
   "cell_type": "code",
   "execution_count": 24,
   "metadata": {},
   "outputs": [],
   "source": [
    "mask = df_product['PRODUCT_NUMBER'] == 48\n",
    "df_product.loc[mask, ['PRODUCT_NAME', 'PRODUCTION_COST']] = df_product.loc[mask, ['PRODUCTION_COST', 'PRODUCT_NAME']].values\n",
    "\n"
   ]
  },
  {
   "cell_type": "code",
   "execution_count": 25,
   "metadata": {},
   "outputs": [],
   "source": [
    "mask = df_product['PRODUCT_NUMBER'] == 20\n",
    "df_product.loc[mask, ['PRODUCT_NAME', 'MARGIN']] = df_product.loc[mask, ['MARGIN', 'PRODUCT_NAME']].values\n"
   ]
  },
  {
   "attachments": {},
   "cell_type": "markdown",
   "metadata": {},
   "source": [
    "Verwissel vervolgens allwas wat op een datum lijkt in PRODUCT_DESCRIPTION met PRODUCTION_DATE"
   ]
  },
  {
   "cell_type": "code",
   "execution_count": 26,
   "metadata": {},
   "outputs": [],
   "source": [
    "import numpy as np\n",
    "\n",
    "#Vervang NaN waarden met 0 in de PRODUCTION_COST kolom\n",
    "df_product['PRODUCTION_COST'].fillna(0, inplace=True)\n",
    "\n",
    "#Vervang waarden in DESCRIPTION die lijken op een getal met de overeenkomende waarden in de kolom PRODUCTION_COST\n",
    "mask = df_product['DESCRIPTION'].str.match(r'^\\d+(\\.\\d+)?$')\n",
    "df_product['PRODUCTION_COST'] = pd.to_numeric(df_product['PRODUCTION_COST'], errors='coerce').fillna(0)\n",
    "df_product.loc[mask, 'DESCRIPTION'] = df_product.loc[mask, 'PRODUCTION_COST'].apply(lambda x: f'{x:.2f}')\n",
    "\n",
    "#Vervang NaN waarden in DESCRIPTION met \"Onbekend\"\n",
    "df_product['DESCRIPTION'].fillna('Onbekend', inplace=True)\n"
   ]
  },
  {
   "attachments": {},
   "cell_type": "markdown",
   "metadata": {},
   "source": [
    "Verwissel vervolgens alle numerieke waarden in DESCRIPTION met PRODUCTION_COST. Er zijn 5 foutieve waarden in het tussendoor outputten van het excel bestand"
   ]
  },
  {
   "attachments": {},
   "cell_type": "markdown",
   "metadata": {},
   "source": [
    "Exporteer naar excel, en doe maar ook CSV"
   ]
  },
  {
   "attachments": {},
   "cell_type": "markdown",
   "metadata": {},
   "source": [
    "Rapport nummer 3?4? whatever"
   ]
  },
  {
   "cell_type": "code",
   "execution_count": 27,
   "metadata": {},
   "outputs": [
    {
     "data": {
      "application/vnd.jupyter.widget-view+json": {
       "model_id": "2c099b47a1084599b53bc4a2099fba68",
       "version_major": 2,
       "version_minor": 0
      },
      "text/plain": [
       "Summarize dataset:   0%|          | 0/5 [00:00<?, ?it/s]"
      ]
     },
     "metadata": {},
     "output_type": "display_data"
    },
    {
     "data": {
      "application/vnd.jupyter.widget-view+json": {
       "model_id": "e645e9e27e624948bec474d6f96d1d8d",
       "version_major": 2,
       "version_minor": 0
      },
      "text/plain": [
       "Generate report structure:   0%|          | 0/1 [00:00<?, ?it/s]"
      ]
     },
     "metadata": {},
     "output_type": "display_data"
    },
    {
     "data": {
      "application/vnd.jupyter.widget-view+json": {
       "model_id": "4ab05b82fa794a50bade28e14cf69c47",
       "version_major": 2,
       "version_minor": 0
      },
      "text/plain": [
       "Render widgets:   0%|          | 0/1 [00:00<?, ?it/s]"
      ]
     },
     "metadata": {},
     "output_type": "display_data"
    },
    {
     "data": {
      "application/vnd.jupyter.widget-view+json": {
       "model_id": "2e26165247da441190f2258a00a7bd45",
       "version_major": 2,
       "version_minor": 0
      },
      "text/plain": [
       "VBox(children=(Tab(children=(Tab(children=(GridBox(children=(VBox(children=(GridspecLayout(children=(HTML(valu…"
      ]
     },
     "metadata": {},
     "output_type": "display_data"
    }
   ],
   "source": [
    "profile4 = ProfileReport(df_product, title = 'Kwaliteitsrapportage dfPRODUCT')\n",
    "profile4.to_widgets()"
   ]
  },
  {
   "cell_type": "code",
   "execution_count": 28,
   "metadata": {},
   "outputs": [],
   "source": [
    "df_product.to_excel('dfPRODUCT_NIEUW.xlsx', index=False)\n",
    "df_product.to_csv('dfPRODUCT_new.csv', index=False)"
   ]
  }
 ],
 "metadata": {
  "kernelspec": {
   "display_name": "Python 3",
   "language": "python",
   "name": "python3"
  },
  "language_info": {
   "codemirror_mode": {
    "name": "ipython",
    "version": 3
   },
   "file_extension": ".py",
   "mimetype": "text/x-python",
   "name": "python",
   "nbconvert_exporter": "python",
   "pygments_lexer": "ipython3",
   "version": "3.11.3"
  },
  "orig_nbformat": 4,
  "vscode": {
   "interpreter": {
    "hash": "b7228c5aefe523ef2339c9b79d226d00ee995b86848883242c12ea21e83dd3e0"
   }
  }
 },
 "nbformat": 4,
 "nbformat_minor": 2
}
