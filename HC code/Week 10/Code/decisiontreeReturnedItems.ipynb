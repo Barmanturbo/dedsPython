{
 "cells": [
  {
   "attachments": {},
   "cell_type": "markdown",
   "metadata": {},
   "source": [
    "<h1>Decision tree maken</h1>\n",
    "<p>Import databases into pandas dataframe</p>"
   ]
  },
  {
   "cell_type": "code",
   "execution_count": 1,
   "metadata": {},
   "outputs": [
    {
     "name": "stderr",
     "output_type": "stream",
     "text": [
      "C:\\Users\\Burto\\AppData\\Local\\Temp\\ipykernel_19844\\1675228730.py:15: UserWarning: pandas only supports SQLAlchemy connectable (engine/connection) or database string URI or sqlite3 DBAPI2 connection. Other DBAPI2 objects are not tested. Please consider using SQLAlchemy.\n",
      "  df_returnedItems = pd.read_sql_query(\"SELECT ORDER_DETAIL_CODE, RETURN_REASON_CODE FROM returned_item\", conn_SALES)\n",
      "C:\\Users\\Burto\\AppData\\Local\\Temp\\ipykernel_19844\\1675228730.py:16: UserWarning: pandas only supports SQLAlchemy connectable (engine/connection) or database string URI or sqlite3 DBAPI2 connection. Other DBAPI2 objects are not tested. Please consider using SQLAlchemy.\n",
      "  df_returnReason = pd.read_sql_query(\"SELECT * FROM return_reason\", conn_SALES)\n",
      "C:\\Users\\Burto\\AppData\\Local\\Temp\\ipykernel_19844\\1675228730.py:17: UserWarning: pandas only supports SQLAlchemy connectable (engine/connection) or database string URI or sqlite3 DBAPI2 connection. Other DBAPI2 objects are not tested. Please consider using SQLAlchemy.\n",
      "  df_details = pd.read_sql_query(\"SELECT ORDER_DETAIL_CODE, PRODUCT_NUMBER FROM order_details\", conn_SALES)\n"
     ]
    }
   ],
   "source": [
    "import pandas as pd\n",
    "import pyodbc\n",
    "\n",
    "# Maak verbinding met de Microsoft Access-database\n",
    "conn_str_sales = (\n",
    "    r\"Driver={Microsoft Access Driver (*.mdb, *.accdb)};\"\n",
    "    r\"DBQ=C:\\\\Users\\\\Burto\\\\Downloads\\\\GO-databases DEDS-week 4 & 5\\\\HC code\\Week 10\\\\GO-databases schoon\\\\go_sales_schoon.accdb;\"\n",
    "    r\"ExtendedAnsiSQL=1;\"\n",
    ")\n",
    "\n",
    "conn_SALES = pyodbc.connect(conn_str_sales)\n",
    "\n",
    "SALESdf = pyodbc.connect(conn_str_sales)\n",
    "\n",
    "df_returnedItems = pd.read_sql_query(\"SELECT ORDER_DETAIL_CODE, RETURN_REASON_CODE FROM returned_item\", conn_SALES)\n",
    "df_returnReason = pd.read_sql_query(\"SELECT * FROM return_reason\", conn_SALES)\n",
    "df_details = pd.read_sql_query(\"SELECT ORDER_DETAIL_CODE, PRODUCT_NUMBER FROM order_details\", conn_SALES)\n",
    "\n",
    "\n",
    "\n"
   ]
  },
  {
   "attachments": {},
   "cell_type": "markdown",
   "metadata": {},
   "source": [
    "Join tabellen"
   ]
  },
  {
   "cell_type": "code",
   "execution_count": 2,
   "metadata": {},
   "outputs": [],
   "source": [
    "#Combineer dataframes\n",
    "df = pd.merge(df_returnedItems, df_returnReason, on='RETURN_REASON_CODE')\n",
    "df = pd.merge(df, df_details, on=\"ORDER_DETAIL_CODE\")\n",
    "\n",
    "# Verwijder ontbrekende waarden en onnodige kolommen\n",
    "df = df.dropna()\n",
    "df = df[['RETURN_REASON_CODE', 'PRODUCT_NUMBER']]"
   ]
  },
  {
   "attachments": {},
   "cell_type": "markdown",
   "metadata": {},
   "source": [
    "<h2>Decision Tree & Random Forest:</h2>\n",
    "<p> Maak een model dat de retourreden van teruggebrachte producten voorspelt. Maak hiervan eerst een 'eenvoudige' decision tree en daarna een random forest.</p>"
   ]
  },
  {
   "cell_type": "code",
   "execution_count": 3,
   "metadata": {},
   "outputs": [
    {
     "name": "stdout",
     "output_type": "stream",
     "text": [
      "Accuracy decision tree: 0.2971698113207547\n",
      "Accuracy random forest: 0.27358490566037735\n"
     ]
    }
   ],
   "source": [
    "from sklearn.tree import DecisionTreeClassifier\n",
    "from sklearn.ensemble import RandomForestClassifier\n",
    "from sklearn.model_selection import train_test_split\n",
    "from sklearn.metrics import accuracy_score\n",
    "\n",
    "# Zet de product nummers om naar numerieke waarden\n",
    "df['PRODUCT_NUMBER'] = pd.to_numeric(df['PRODUCT_NUMBER'], downcast='integer')\n",
    "\n",
    "# Zet de retour reden codes om naar numerieke waarden\n",
    "df['RETURN_REASON_CODE'] = pd.to_numeric(df['RETURN_REASON_CODE'], downcast='integer')\n",
    "\n",
    "# Maak de feature matrix X en de target vector y\n",
    "X = df.drop(['RETURN_REASON_CODE'], axis=1)\n",
    "y = df['RETURN_REASON_CODE']\n",
    "\n",
    "# Split de data in een train en test set\n",
    "X_train, X_test, y_train, y_test = train_test_split(X, y, test_size=0.3, random_state=1)\n",
    "\n",
    "# Maak een decision tree model\n",
    "tree = DecisionTreeClassifier()\n",
    "tree.fit(X_train, y_train)\n",
    "\n",
    "# Maak een random forest model\n",
    "forest = RandomForestClassifier(n_estimators=100)\n",
    "forest.fit(X_train, y_train)\n",
    "\n",
    "# Test de modellen\n",
    "y_pred_tree = tree.predict(X_test)\n",
    "accuracy_tree = accuracy_score(y_test, y_pred_tree)\n",
    "print(\"Accuracy decision tree:\", accuracy_tree)\n",
    "\n",
    "y_pred_forest = forest.predict(X_test)\n",
    "accuracy_forest = accuracy_score(y_test, y_pred_forest)\n",
    "print(\"Accuracy random forest:\", accuracy_forest)"
   ]
  }
 ],
 "metadata": {
  "kernelspec": {
   "display_name": "Python 3",
   "language": "python",
   "name": "python3"
  },
  "language_info": {
   "codemirror_mode": {
    "name": "ipython",
    "version": 3
   },
   "file_extension": ".py",
   "mimetype": "text/x-python",
   "name": "python",
   "nbconvert_exporter": "python",
   "pygments_lexer": "ipython3",
   "version": "3.11.3"
  },
  "orig_nbformat": 4
 },
 "nbformat": 4,
 "nbformat_minor": 2
}
