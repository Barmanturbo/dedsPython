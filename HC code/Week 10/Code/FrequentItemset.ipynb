{
 "cells": [
  {
   "attachments": {},
   "cell_type": "markdown",
   "metadata": {},
   "source": [
    "<h1>Frequent itemset</h1>\n",
    "begin met basics"
   ]
  },
  {
   "cell_type": "code",
   "execution_count": 1,
   "metadata": {},
   "outputs": [
    {
     "name": "stderr",
     "output_type": "stream",
     "text": [
      "C:\\Users\\Burto\\AppData\\Local\\Temp\\ipykernel_9844\\3928950512.py:6: UserWarning: pandas only supports SQLAlchemy connectable (engine/connection) or database string URI or sqlite3 DBAPI2 connection. Other DBAPI2 objects are not tested. Please consider using SQLAlchemy.\n",
      "  order_details = pd.read_sql(\"SELECT * FROM order_details\", sales)\n",
      "C:\\Users\\Burto\\AppData\\Local\\Temp\\ipykernel_9844\\3928950512.py:7: UserWarning: pandas only supports SQLAlchemy connectable (engine/connection) or database string URI or sqlite3 DBAPI2 connection. Other DBAPI2 objects are not tested. Please consider using SQLAlchemy.\n",
      "  order_header = pd.read_sql(\"SELECT * FROM order_header\", sales)\n",
      "C:\\Users\\Burto\\AppData\\Local\\Temp\\ipykernel_9844\\3928950512.py:8: UserWarning: pandas only supports SQLAlchemy connectable (engine/connection) or database string URI or sqlite3 DBAPI2 connection. Other DBAPI2 objects are not tested. Please consider using SQLAlchemy.\n",
      "  product = pd.read_sql(\"SELECT * FROM product\", sales)\n",
      "C:\\Users\\Burto\\AppData\\Local\\Temp\\ipykernel_9844\\3928950512.py:9: UserWarning: pandas only supports SQLAlchemy connectable (engine/connection) or database string URI or sqlite3 DBAPI2 connection. Other DBAPI2 objects are not tested. Please consider using SQLAlchemy.\n",
      "  product_type = pd.read_sql(\"SELECT * FROM product_type\", sales)\n"
     ]
    }
   ],
   "source": [
    "import pandas as pd\n",
    "import pyodbc\n",
    "\n",
    "sales = pyodbc.connect(r'Driver={Microsoft Access Driver (*.mdb, *.accdb)};DBQ=C:\\\\Users\\\\Burto\\\\Downloads\\\\GO-databases DEDS-week 4 & 5\\\\HC code\\Week 10\\\\GO-databases schoon\\\\go_sales_schoon.accdb;')\n",
    "\n",
    "order_details = pd.read_sql(\"SELECT * FROM order_details\", sales)\n",
    "order_header = pd.read_sql(\"SELECT * FROM order_header\", sales)\n",
    "product = pd.read_sql(\"SELECT * FROM product\", sales)\n",
    "product_type = pd.read_sql(\"SELECT * FROM product_type\", sales)"
   ]
  },
  {
   "cell_type": "code",
   "execution_count": 2,
   "metadata": {},
   "outputs": [
    {
     "data": {
      "text/plain": [
       "5360"
      ]
     },
     "execution_count": 2,
     "metadata": {},
     "output_type": "execute_result"
    }
   ],
   "source": [
    "#controleer hoeveelheid orders\n",
    "len(order_header)\n"
   ]
  },
  {
   "attachments": {},
   "cell_type": "markdown",
   "metadata": {},
   "source": [
    "Merge tabellen en selecteer alleen relevante kolommen"
   ]
  },
  {
   "cell_type": "code",
   "execution_count": 4,
   "metadata": {},
   "outputs": [],
   "source": [
    "df = order_details.merge(product, on='PRODUCT_NUMBER')\n",
    "df = df.merge(order_header, on='ORDER_NUMBER')\n",
    "\n",
    "df = df[['ORDER_NUMBER', 'PRODUCT_NAME']]"
   ]
  },
  {
   "attachments": {},
   "cell_type": "markdown",
   "metadata": {},
   "source": [
    "Maak een basket"
   ]
  },
  {
   "cell_type": "code",
   "execution_count": 5,
   "metadata": {},
   "outputs": [],
   "source": [
    "basket = pd.crosstab(index=df['ORDER_NUMBER'], columns=df['PRODUCT_NAME'])"
   ]
  },
  {
   "attachments": {},
   "cell_type": "markdown",
   "metadata": {},
   "source": [
    "Geburuik apriori om frequent itemsets te vinden.<br/>\n",
    "Reden min_support = 0.005: er zijn 5360 bestellingen. Met een min_support van 0.005 moeten er minimaal 27 bestellingen zijn van de producten. Dit scheelt in theorie best wel veel tijd in het berekenen van de frequente itemsets.</br>\n",
    "Reden lift min_threshold=1 is gekozen vanwege de betekenis van lift. Als de waarde groter is dan 1 betekent jet dat er een sterkere associatie  is tussen de items."
   ]
  },
  {
   "cell_type": "code",
   "execution_count": 8,
   "metadata": {},
   "outputs": [
    {
     "name": "stderr",
     "output_type": "stream",
     "text": [
      "C:\\Users\\Burto\\AppData\\Local\\Packages\\PythonSoftwareFoundation.Python.3.11_qbz5n2kfra8p0\\LocalCache\\local-packages\\Python311\\site-packages\\mlxtend\\frequent_patterns\\fpcommon.py:110: DeprecationWarning: DataFrames with non-bool types result in worse computationalperformance and their support might be discontinued in the future.Please use a DataFrame with bool type\n",
      "  warnings.warn(\n"
     ]
    },
    {
     "name": "stdout",
     "output_type": "stream",
     "text": [
      "                                            antecedents  \\\n",
      "8633                (Lady Hailstorm Titanium Woods Set)   \n",
      "8632  (Lady Hailstorm Titanium Irons, Blue Steel Max...   \n",
      "8634                    (Lady Hailstorm Titanium Irons)   \n",
      "8631  (Blue Steel Max Putter, Lady Hailstorm Titaniu...   \n",
      "9338    (Firefly Charger, Canyon Mule Journey Backpack)   \n",
      "\n",
      "                                            consequents  antecedent support  \\\n",
      "8633  (Lady Hailstorm Titanium Irons, Blue Steel Max...            0.059142   \n",
      "8632                (Lady Hailstorm Titanium Woods Set)            0.019590   \n",
      "8634  (Blue Steel Max Putter, Lady Hailstorm Titaniu...            0.054664   \n",
      "8631                    (Lady Hailstorm Titanium Irons)            0.022761   \n",
      "9338                                    (Husky Rope 60)            0.012687   \n",
      "\n",
      "      consequent support   support  confidence      lift  leverage  \\\n",
      "8633            0.019590  0.010448    0.176656  9.017876  0.009289   \n",
      "8632            0.059142  0.010448    0.533333  9.017876  0.009289   \n",
      "8634            0.022761  0.010448    0.191126  8.397023  0.009204   \n",
      "8631            0.054664  0.010448    0.459016  8.397023  0.009204   \n",
      "9338            0.058582  0.006157    0.485294  8.284001  0.005414   \n",
      "\n",
      "      conviction  zhangs_metric  \n",
      "8633    1.190767       0.944998  \n",
      "8632    2.016125       0.906874  \n",
      "8634    1.208148       0.931849  \n",
      "8631    1.747439       0.901428  \n",
      "9338    1.829041       0.890584  \n"
     ]
    }
   ],
   "source": [
    "# gebruik apriori om frequent itemsets te vinden\n",
    "from mlxtend.frequent_patterns import apriori\n",
    "from mlxtend.frequent_patterns import association_rules\n",
    "\n",
    "frequent_itemsets = apriori(basket, min_support=0.005, use_colnames=True)\n",
    "rules = association_rules(frequent_itemsets, metric=\"lift\", min_threshold=1)\n",
    "\n",
    "# sorteer de resultaten op lift\n",
    "rules.sort_values('lift', ascending=False, inplace=True)\n",
    "\n",
    "# print de resultaten\n",
    "print(rules.head())\n"
   ]
  },
  {
   "attachments": {},
   "cell_type": "markdown",
   "metadata": {},
   "source": [
    "De output van de code is de resulterende associatieregel tussen twee producten (of sets van producten), inclusief de frequentie van de ondersteunende regel, de confidence van de regel, de lift, de leverage, de conviction en de Zhang's metric.\n",
    "\n",
    "De \"antecedents\" zijn de set van producten die aanwezig zijn in de \"basket\" van de klanten die het product kochten en de \"consequents\" zijn de set van producten die samen met de \"antecedents\" worden gekocht.\n",
    "\n",
    "De \"antecedent support\" en \"consequent support\" geven de frequentie aan waarmee de sets van producten in de data voorkomen.\n",
    "\n",
    "De \"support\" geeft aan hoe vaak de \"antecedents\" en \"consequents\" samen in een transactie voorkomen.\n",
    "\n",
    "De \"confidence\" geeft de mate van zekerheid aan dat de \"consequents\" worden gekocht als de \"antecedents\" al in de \"basket\" zitten.\n",
    "\n",
    "De \"lift\" geeft aan hoeveel meer kans er is dat de \"consequents\" samen met de \"antecedents\" worden gekocht dan verwacht als de producten onafhankelijk zouden zijn.\n",
    "\n",
    "De \"leverage\" meet het verschil tussen de waargenomen frequentie van \"antecedents\" en \"consequents\" in de data en de frequentie die zou worden verwacht als de producten onafhankelijk zouden zijn.\n",
    "\n",
    "De \"conviction\" geeft aan hoeveel sterker de \"antecedents\" de \"consequents\" voorspellen dan wanneer de \"consequents\" onafhankelijk zouden zijn.\n",
    "\n",
    "De \"Zhang's metric\" is een maatstaf voor de afhankelijkheid tussen de \"antecedents\" en \"consequents\" en geeft een waarde tussen -1 en 1, waarbij 1 betekent dat de \"antecedents\" en \"consequents\" perfect afhankelijk zijn en -1 betekent dat ze perfect onafhankelijk zijn."
   ]
  }
 ],
 "metadata": {
  "kernelspec": {
   "display_name": "Python 3",
   "language": "python",
   "name": "python3"
  },
  "language_info": {
   "codemirror_mode": {
    "name": "ipython",
    "version": 3
   },
   "file_extension": ".py",
   "mimetype": "text/x-python",
   "name": "python",
   "nbconvert_exporter": "python",
   "pygments_lexer": "ipython3",
   "version": "3.11.3"
  },
  "orig_nbformat": 4
 },
 "nbformat": 4,
 "nbformat_minor": 2
}
