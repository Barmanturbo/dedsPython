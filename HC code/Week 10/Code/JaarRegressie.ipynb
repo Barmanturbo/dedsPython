{
 "cells": [
  {
   "attachments": {},
   "cell_type": "markdown",
   "metadata": {},
   "source": [
    "<h1>Regressie (jaar)</h1>\n",
    "begin met basics van maand regressie"
   ]
  },
  {
   "cell_type": "code",
   "execution_count": null,
   "metadata": {},
   "outputs": [],
   "source": [
    "import pandas as pd\n",
    "import pyodbc\n",
    "from sklearn.linear_model import LinearRegression\n",
    "from sklearn.metrics import r2_score\n",
    "\n",
    "# Maak verbinding met de Microsoft Access-database\n",
    "conn_str_sales = (\n",
    "    r\"Driver={Microsoft Access Driver (*.mdb, *.accdb)};\"\n",
    "    r\"DBQ=C:\\\\Users\\\\Burto\\\\Downloads\\\\GO-databases DEDS-week 4 & 5\\\\HC code\\Week 10\\\\GO-databases schoon\\\\go_sales_schoon.accdb;\"\n",
    "    r\"ExtendedAnsiSQL=1;\"\n",
    ")\n",
    "conn_SALES = pyodbc.connect(conn_str_sales)\n",
    "\n",
    "# Haal gegevens op uit de database\n",
    "df_returnedItems = pd.read_sql_query(\"SELECT * FROM returned_item\", conn_SALES)\n",
    "df_details = pd.read_sql_query(\"SELECT * FROM order_details\", conn_SALES)\n",
    "df_header = pd.read_sql_query('SELECT * FROM order_header', conn_SALES)\n",
    "\n",
    "#JOIN tabel\n",
    "df = pd.merge(df_returnedItems, df_details, on='ORDER_DETAIL_CODE')\n",
    "df = pd.merge(df,df_header, on='ORDER_NUMBER')\n",
    "\n",
    "#Selecteer alleen de relevante informatie\n",
    "df = df.dropna()\n",
    "df = df[['ORDER_DATE','RETURN_QUANTITY']]"
   ]
  },
  {
   "attachments": {},
   "cell_type": "markdown",
   "metadata": {},
   "source": [
    "<h2>Voeg maanden toe</h2>"
   ]
  },
  {
   "cell_type": "code",
   "execution_count": null,
   "metadata": {},
   "outputs": [],
   "source": [
    "# Zet ORDER_DATE om naar maanden\n",
    "df['MONTH'] = pd.to_datetime(df['ORDER_DATE']).dt.month\n",
    "\n",
    "# Groepeer gegevens per maand\n",
    "df_grouped = df.groupby(['MONTH']).sum().reset_index()"
   ]
  },
  {
   "attachments": {},
   "cell_type": "markdown",
   "metadata": {},
   "source": [
    "<h2>Regressiemodel</h2>\n",
    "<p>We kunnen beginnen met het toevoegen van een nieuwe kolom met het jaartal van de bestelling en het verwijderen van de ORDER_DATE-kolom</p>"
   ]
  },
  {
   "cell_type": "code",
   "execution_count": null,
   "metadata": {},
   "outputs": [],
   "source": [
    "# Gebruik LINEAR REGRESSION om de relatie tussen maand en geretourneerde hoeveelheid te bepalen\n",
    "X = df_grouped['MONTH'].values.reshape(-1, 1)\n",
    "y = df_grouped['RETURN_QUANTITY'].values.reshape(-1, 1)\n",
    "model = LinearRegression()\n",
    "model.fit(X, y)\n",
    "\n",
    "# Voorspel het aantal geretourneerde producten voor de maand januari\n",
    "predicted_returns = model.predict([[1]])\n",
    "print(predicted_returns)"
   ]
  },
  {
   "attachments": {},
   "cell_type": "markdown",
   "metadata": {},
   "source": [
    "<h3>Bereken R2 score</h3>\n",
    "<p>Een hogere score is beter.<br/>Laten we de code testen door 2024 in te vullen, kijken wat er uit komt.</p>"
   ]
  },
  {
   "cell_type": "code",
   "execution_count": null,
   "metadata": {},
   "outputs": [],
   "source": [
    "# Bereken de R2-score\n",
    "y_pred = model.predict(X)\n",
    "r2 = r2_score(y, y_pred)\n",
    "\n",
    "# Print de de R2-score\n",
    "print(r2)"
   ]
  },
  {
   "attachments": {},
   "cell_type": "markdown",
   "metadata": {},
   "source": [
    "<h2>Polynomial poging</h2>"
   ]
  },
  {
   "cell_type": "code",
   "execution_count": null,
   "metadata": {},
   "outputs": [],
   "source": [
    "from sklearn.preprocessing import PolynomialFeatures\n",
    "\n",
    "poly = PolynomialFeatures(degree=2)\n",
    "X_poly = poly.fit_transform(X)\n",
    "\n",
    "model_poly = LinearRegression()\n",
    "model_poly.fit(X_poly, y)\n"
   ]
  }
 ],
 "metadata": {
  "kernelspec": {
   "display_name": "Python 3",
   "language": "python",
   "name": "python3"
  },
  "language_info": {
   "codemirror_mode": {
    "name": "ipython",
    "version": 3
   },
   "file_extension": ".py",
   "mimetype": "text/x-python",
   "name": "python",
   "nbconvert_exporter": "python",
   "pygments_lexer": "ipython3",
   "version": "3.11.3"
  },
  "orig_nbformat": 4
 },
 "nbformat": 4,
 "nbformat_minor": 2
}
