{
 "cells": [
  {
   "attachments": {},
   "cell_type": "markdown",
   "metadata": {},
   "source": [
    "<h1>Decision tree maken</h1>\n",
    "<p>Import databases into pandas dataframe</p>"
   ]
  },
  {
   "cell_type": "code",
   "execution_count": 1,
   "metadata": {},
   "outputs": [
    {
     "name": "stderr",
     "output_type": "stream",
     "text": [
      "C:\\Users\\Burto\\AppData\\Local\\Temp\\ipykernel_9060\\1241696064.py:15: UserWarning: pandas only supports SQLAlchemy connectable (engine/connection) or database string URI or sqlite3 DBAPI2 connection. Other DBAPI2 objects are not tested. Please consider using SQLAlchemy.\n",
      "  df_returnedItems = pd.read_sql_query(\"SELECT ORDER_DETAIL_CODE, RETURN_REASON_CODE FROM returned_item\", conn_SALES)\n",
      "C:\\Users\\Burto\\AppData\\Local\\Temp\\ipykernel_9060\\1241696064.py:16: UserWarning: pandas only supports SQLAlchemy connectable (engine/connection) or database string URI or sqlite3 DBAPI2 connection. Other DBAPI2 objects are not tested. Please consider using SQLAlchemy.\n",
      "  df_returnReason = pd.read_sql_query(\"SELECT * FROM return_reason\", conn_SALES)\n"
     ]
    }
   ],
   "source": [
    "import pandas as pd\n",
    "import pyodbc\n",
    "\n",
    "# Maak verbinding met de Microsoft Access-database\n",
    "conn_str_sales = (\n",
    "    r\"Driver={Microsoft Access Driver (*.mdb, *.accdb)};\"\n",
    "    r\"DBQ=C:\\\\Users\\\\Burto\\\\Downloads\\\\GO-databases DEDS-week 4 & 5\\\\HC code\\Week 10\\\\GO-databases schoon\\\\go_sales_schoon.accdb;\"\n",
    "    r\"ExtendedAnsiSQL=1;\"\n",
    ")\n",
    "\n",
    "conn_SALES = pyodbc.connect(conn_str_sales)\n",
    "\n",
    "SALESdf = pyodbc.connect(conn_str_sales)\n",
    "\n",
    "df_returnedItems = pd.read_sql_query(\"SELECT ORDER_DETAIL_CODE, RETURN_REASON_CODE FROM returned_item\", conn_SALES)\n",
    "df_returnReason = pd.read_sql_query(\"SELECT * FROM return_reason\", conn_SALES)\n",
    "\n",
    "\n"
   ]
  },
  {
   "attachments": {},
   "cell_type": "markdown",
   "metadata": {},
   "source": [
    "<h2>Decision Tree & Random Forest:</h2>\n",
    "<p> Maak een model dat de retourreden van teruggebrachte producten voorspelt. Maak hiervan eerst een 'eenvoudige' decision tree en daarna een random forest.</p>"
   ]
  }
 ],
 "metadata": {
  "kernelspec": {
   "display_name": "Python 3",
   "language": "python",
   "name": "python3"
  },
  "language_info": {
   "codemirror_mode": {
    "name": "ipython",
    "version": 3
   },
   "file_extension": ".py",
   "mimetype": "text/x-python",
   "name": "python",
   "nbconvert_exporter": "python",
   "pygments_lexer": "ipython3",
   "version": "3.11.3"
  },
  "orig_nbformat": 4
 },
 "nbformat": 4,
 "nbformat_minor": 2
}
