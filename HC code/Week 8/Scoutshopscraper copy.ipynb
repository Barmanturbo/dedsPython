{
 "cells": [
  {
   "attachments": {},
   "cell_type": "markdown",
   "metadata": {},
   "source": [
    "<h1>Scraper in python</h1>\n",
    "<p>In deze scraper ga ik proberen informatie van de scoutshop website af te plukken met python code.\n"
   ]
  },
  {
   "cell_type": "code",
   "execution_count": null,
   "metadata": {},
   "outputs": [],
   "source": [
    "import requests\n",
    "from bs4 import BeautifulSoup\n",
    "import pandas as pd\n",
    "from collections import Counter\n",
    "\n",
    "url = 'https://www.scoutshop.nl/outdoorkleding-en-schoenen/wandelschoenen-en-sokken?product_list_limit=all'\n",
    "\n",
    "response = requests.get(url)\n",
    "soup = BeautifulSoup(response.content, \"html.parser\")\n",
    "\n",
    "producten = soup.find_all(\"div\", {\"class\": \"product-item-info\"})\n",
    "\n",
    "#Lege lijsten om gegevens in op te slaan\n",
    "productnaam = []\n",
    "prijs = []\n",
    "recensent = []\n",
    "titel = []\n",
    "reviewbody = []\n",
    "datum = []\n",
    "wordcount = []"
   ]
  },
  {
   "attachments": {},
   "cell_type": "markdown",
   "metadata": {},
   "source": [
    "<h2>Loop vervolgens door alle producten heen</h2>\n",
    "<p>en maak een http request naar de link ervan en trek alle recensies er uit.<br/><br/>\n",
    "DIT MOET NOG AFGEMAAKT WORDEN.</p>"
   ]
  },
  {
   "cell_type": "code",
   "execution_count": null,
   "metadata": {},
   "outputs": [],
   "source": [
    "import json\n",
    "\n",
    "for product in producten:\n",
    "    productnaam = product.find(\"a\", {\"class\": \"product-item-link\"}).text.strip()\n",
    "    prijs = product.find(\"span\", {\"class\": \"price\"}).text.strip()\n",
    "    print(prijs)\n",
    "\n",
    "    knop = product.find(\"div\", {\"class\": \"actions-primary\"})\n",
    "    link = knop.find(\"a\")[\"href\"]+\"#reviews\"\n",
    "    print(link)\n",
    "\n",
    "    xhr_response = requests.get(link)\n",
    "\n",
    "    json_data = json.loads(response.text)\n",
    "\n",
    "    #Zoek naar de json met de tekst \"Klantenreviews\"\n",
    "    reviews = json_data['Klantenreviews']"
   ]
  },
  {
   "attachments": {},
   "cell_type": "markdown",
   "metadata": {},
   "source": [
    "Maak een pands dataframe van de gegevens."
   ]
  },
  {
   "cell_type": "code",
   "execution_count": null,
   "metadata": {},
   "outputs": [],
   "source": [
    "data = {\"Productnaam\": productnaam,\n",
    "        \"Prijs\":prijs,\n",
    "        \"Naam recensent\":recensent,\n",
    "        \"Titel\":titel,\n",
    "        \"Rating\":waardering,\n",
    "        \"Datum\":datum\n",
    "        }\n",
    "\n",
    "df = pd.DataFrame(data)\n",
    "df.to_csv()"
   ]
  },
  {
   "cell_type": "code",
   "execution_count": null,
   "metadata": {},
   "outputs": [],
   "source": [
    "#code storage\n",
    " # Zoek naar de \"info & bestellen\" knop en klik erop\n",
    "knop = product.find(\"div\", {\"class\": \"actions-primary\"})\n",
    "link = knop.find(\"a\")[\"href\"]\n",
    "response = requests.get(link)\n",
    "soup = BeautifulSoup(response.content, \"html.parser\")\n",
    "\n",
    "#Zoek alle recensies van het product\n",
    "\n",
    "recensies = soup.fin_all(\"li\", {\"class\": \"review-item\"})\n",
    "\n",
    "#Lees alle recensies in. WORK IN PROGRESS\n",
    "for recensie in recensies:\n",
    "    recensent = recensie.find(\"span\", {\"class\": \"name\"}).text.strip()\n",
    "    titel = recensie.find(\"div\", {\"class\": \"review-title\"}).text.strip()\n",
    "    waardering = recensie.find(\"div\", {\"class\": \"review-ratings\"})[\"data-rating\"]\n",
    "    recensie_inhoud = recensie.find(\"div\", {\"class\": \"review-content-container\"}).find(\"div\", {\"class\": \"review-content\"})\n",
    "    recensie_tekst = recensie_inhoud.text.strip()\n",
    "    datum = recensie.find(\"span\", {\"class\": \"date\"}).text.strip()\n",
    "\n",
    "    # Voeg de gegevens van de recensie toe aan de lijsten\n",
    "    productnaam.append(productnaam)\n",
    "    prijs.append(prijs)\n",
    "    recensent.append(recensent)\n",
    "    titel.append(titel)\n",
    "    reviewbody.append(recensie_inhoud)\n",
    "    waardering.append(waardering)\n",
    "    datum.append(datum)\n",
    "\n",
    "    #Tel aantal woorden in de review\n",
    "    wordcount.append(len(recensie_inhoud.split()))"
   ]
  }
 ],
 "metadata": {
  "kernelspec": {
   "display_name": "Python 3",
   "language": "python",
   "name": "python3"
  },
  "language_info": {
   "codemirror_mode": {
    "name": "ipython",
    "version": 3
   },
   "file_extension": ".py",
   "mimetype": "text/x-python",
   "name": "python",
   "nbconvert_exporter": "python",
   "pygments_lexer": "ipython3",
   "version": "3.11.2"
  },
  "orig_nbformat": 4
 },
 "nbformat": 4,
 "nbformat_minor": 2
}
