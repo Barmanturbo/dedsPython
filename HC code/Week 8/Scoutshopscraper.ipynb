{
 "cells": [
  {
   "attachments": {},
   "cell_type": "markdown",
   "metadata": {},
   "source": [
    "<h1>Scraper in python</h1>\n",
    "<p>In deze scraper ga ik proberen informatie van de scoutshop website af te plukken met python code.\n"
   ]
  },
  {
   "cell_type": "code",
   "execution_count": null,
   "metadata": {},
   "outputs": [],
   "source": [
    "import requests\n",
    "from bs4 import BeautifulSoup\n",
    "import pandas as pd\n",
    "\n",
    "url = 'https://www.scoutshop.nl/outdoorkleding-en-schoenen/wandelschoenen-en-sokken'\n",
    "\n",
    "response = requests.get(url)\n",
    "soup = BeautifulSoup(response.content, \"html.parser\")\n",
    "\n",
    "producten = soup.find_all(\"div\", {\"class\": \"product-item-info\"})\n",
    "\n",
    "#Lege lijsten om gegevens in op te slaan\n",
    "productnaam = []\n",
    "prijs = []\n",
    "recensent = []\n",
    "titel = []\n",
    "review = []\n",
    "datum = []\n",
    "\n",
    "#Bekijk elk prodiuct en klik op de \"info & bestlelen\" knop\n",
    "for product in producten:\n",
    "    productnaam = product.find(\"a\", {\"class\": \"product-item-link\"}).text.strip()\n",
    "    prijs = product.find(\"span\", {\"class\": \"price\"}).text.strip()\n",
    "\n",
    "    \n",
    "\n",
    "\n"
   ]
  }
 ],
 "metadata": {
  "language_info": {
   "name": "python"
  },
  "orig_nbformat": 4
 },
 "nbformat": 4,
 "nbformat_minor": 2
}
