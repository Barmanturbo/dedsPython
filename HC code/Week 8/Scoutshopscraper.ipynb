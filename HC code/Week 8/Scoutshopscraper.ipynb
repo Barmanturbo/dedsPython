{
 "cells": [
  {
   "attachments": {},
   "cell_type": "markdown",
   "metadata": {},
   "source": [
    "<h1>Scraper in python</h1>\n",
    "<p>In deze scraper ga ik proberen informatie van de scoutshop website af te plukken met python code.\n"
   ]
  },
  {
   "cell_type": "code",
   "execution_count": 1,
   "metadata": {},
   "outputs": [],
   "source": [
    "import requests\n",
    "from bs4 import BeautifulSoup\n",
    "import pandas as pd\n",
    "from collections import Counter\n",
    "\n",
    "url = 'https://www.scoutshop.nl/outdoorkleding-en-schoenen/wandelschoenen-en-sokken?product_list_limit=all'\n",
    "\n",
    "response = requests.get(url)\n",
    "soup = BeautifulSoup(response.content, \"html.parser\")\n",
    "\n",
    "producten = soup.find_all(\"div\", {\"class\": \"product-item-info\"})\n",
    "\n",
    "#Lege lijsten om gegevens in op te slaan\n",
    "productnaam = []\n",
    "prijs = []\n",
    "recensent = []\n",
    "titel = []\n",
    "reviewbody = []\n",
    "datum = []\n",
    "wordcount = []"
   ]
  },
  {
   "attachments": {},
   "cell_type": "markdown",
   "metadata": {},
   "source": [
    "<h2>Loop vervolgens door alle producten heen</h2>\n",
    "<p>en maak een http request naar de link ervan en trek alle recensies er uit.<br/><br/>\n",
    "DIT MOET NOG AFGEMAAKT WORDEN.</p>"
   ]
  },
  {
   "cell_type": "code",
   "execution_count": 3,
   "metadata": {},
   "outputs": [
    {
     "name": "stdout",
     "output_type": "stream",
     "text": [
      "€ 9,95\n",
      "https://www.scoutshop.nl/outdoor-schoenentas#reviews\n"
     ]
    },
    {
     "ename": "TypeError",
     "evalue": "'NoneType' object is not callable",
     "output_type": "error",
     "traceback": [
      "\u001b[1;31m---------------------------------------------------------------------------\u001b[0m",
      "\u001b[1;31mTypeError\u001b[0m                                 Traceback (most recent call last)",
      "Cell \u001b[1;32mIn[3], line 15\u001b[0m\n\u001b[0;32m     12\u001b[0m soup2 \u001b[39m=\u001b[39m BeautifulSoup(response\u001b[39m.\u001b[39mcontent, \u001b[39m\"\u001b[39m\u001b[39mhtml.parser\u001b[39m\u001b[39m\"\u001b[39m)\n\u001b[0;32m     13\u001b[0m \u001b[39m#Zoek alle recensies van het product\u001b[39;00m\n\u001b[0;32m     14\u001b[0m \u001b[39m#try:\u001b[39;00m\n\u001b[1;32m---> 15\u001b[0m recensies \u001b[39m=\u001b[39m soup2\u001b[39m.\u001b[39;49mfin_all(\u001b[39m\"\u001b[39;49m\u001b[39mli\u001b[39;49m\u001b[39m\"\u001b[39;49m, {\u001b[39m\"\u001b[39;49m\u001b[39mclass\u001b[39;49m\u001b[39m\"\u001b[39;49m: \u001b[39m\"\u001b[39;49m\u001b[39mitem review-item\u001b[39;49m\u001b[39m\"\u001b[39;49m})\n\u001b[0;32m     16\u001b[0m \u001b[39mprint\u001b[39m(recensies)\n\u001b[0;32m     18\u001b[0m \u001b[39mfor\u001b[39;00m recensie \u001b[39min\u001b[39;00m recensies:\n",
      "\u001b[1;31mTypeError\u001b[0m: 'NoneType' object is not callable"
     ]
    }
   ],
   "source": [
    "for product in producten:\n",
    "    productnaam = product.find(\"a\", {\"class\": \"product-item-link\"}).text.strip()\n",
    "    prijs = product.find(\"span\", {\"class\": \"price\"}).text.strip()\n",
    "    print(prijs)\n",
    "\n",
    "    knop = product.find(\"div\", {\"class\": \"actions-primary\"})\n",
    "    link = knop.find(\"a\")[\"href\"]+\"#reviews\"\n",
    "    print(link)\n",
    "\n",
    "    response = requests.get(link)\n",
    "\n",
    "    soup2 = BeautifulSoup(response.content, \"html.parser\")\n",
    "    #Zoek alle recensies van het product\n",
    "    #try:\n",
    "    recensies = soup2.fin_all(\"li\", {\"class\": \"item review-item\"})\n",
    "    print(recensies)\n",
    "\n",
    "    for recensie in recensies:\n",
    "            titel = soup.find('div', {'class': 'review-title'}).text.strip()\n",
    "            waardering = soup.find('div', {'class': 'rating-result'}).find('span', {'itemprop': 'ratingValue'}).text.strip()\n",
    "            recensie_inhoud = soup.find('div', {'class': 'review-content'}).text.strip()\n",
    "            recensent = soup.find('strong', {'itemprop': 'author'}).text.strip()\n",
    "            datum = soup.find('time', {'itemprop': 'datePublished'})['datetime']\n",
    "            #recensent = recensie.find(\"span\", {\"class\": \"name\"}).text.strip()\n",
    "            #titel = recensie.find(\"div\", {\"class\": \"review-title\"}).text.strip()\n",
    "            #waardering = recensie.find(\"div\", {\"class\": \"review-ratings\"})[\"data-rating\"]\n",
    "            #recensie_inhoud = recensie.find(\"div\", {\"class\": \"review-content-container\"}).find(\"div\", {\"class\": \"review-content\"})\n",
    "            #recensie_tekst = recensie_inhoud.text.strip()\n",
    "            #datum = recensie.find(\"span\", {\"class\": \"date\"}).text.strip()\n",
    "            print(recensent)\n",
    "            print(titel)\n",
    "            print(waardering)\n",
    "            print(recensie_inhoud)\n",
    "            print(datum)\n",
    "            \n",
    "    #except Exception as e:\n",
    "    #   print(e)\n",
    "\n",
    "   \n",
    "\n"
   ]
  },
  {
   "attachments": {},
   "cell_type": "markdown",
   "metadata": {},
   "source": [
    "Maak een pandas dataframe van de gegevens."
   ]
  },
  {
   "cell_type": "code",
   "execution_count": null,
   "metadata": {},
   "outputs": [],
   "source": [
    "data = {\"Productnaam\": productnaam,\n",
    "        \"Prijs\":prijs,\n",
    "        \"Naam recensent\":recensent,\n",
    "        \"Titel\":titel,\n",
    "        \"Rating\":waardering,\n",
    "        \"Datum\":datum\n",
    "        }\n",
    "\n",
    "df = pd.DataFrame(data)\n",
    "df.to_csv()"
   ]
  }
 ],
 "metadata": {
  "kernelspec": {
   "display_name": "Python 3",
   "language": "python",
   "name": "python3"
  },
  "language_info": {
   "codemirror_mode": {
    "name": "ipython",
    "version": 3
   },
   "file_extension": ".py",
   "mimetype": "text/x-python",
   "name": "python",
   "nbconvert_exporter": "python",
   "pygments_lexer": "ipython3",
   "version": "3.11.2"
  },
  "orig_nbformat": 4
 },
 "nbformat": 4,
 "nbformat_minor": 2
}
